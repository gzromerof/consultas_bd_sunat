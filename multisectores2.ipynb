{
  "cells": [
    {
      "cell_type": "markdown",
      "metadata": {
        "id": "view-in-github",
        "colab_type": "text"
      },
      "source": [
        "<a href=\"https://colab.research.google.com/github/gzromerof/consultas_bd_sunat/blob/main/multisectores2.ipynb\" target=\"_parent\"><img src=\"https://colab.research.google.com/assets/colab-badge.svg\" alt=\"Open In Colab\"/></a>"
      ]
    },
    {
      "cell_type": "code",
      "source": [
        "#OPCION DE CARGA N° 1\n",
        "#Matriz_MC es la matriz que contiene a las empresas ya clasificadas por Tamaño\n",
        "import pandas as pd\n",
        "##df= pd.read_excel('NOMRE_EXCEL.xlsx', sheet_name='NOMBRE_HOJA_EXCEL')\n",
        "df= pd.read_excel('Base_23_6.xlsx', sheet_name='Base_Ene_MC')\n",
        "df"
      ],
      "metadata": {
        "colab": {
          "base_uri": "https://localhost:8080/"
        },
        "id": "xxiUs5BkUjgY",
        "outputId": "ad34657b-7907-4c0e-ebcf-f489d3b6a2ef"
      },
      "execution_count": null,
      "outputs": [
        {
          "output_type": "stream",
          "name": "stdout",
          "text": [
            "Mounted at /content/drive\n"
          ]
        }
      ]
    },
    {
      "cell_type": "code",
      "source": [
        "#OPCION DE CARGA N° 2\n",
        "from google.colab import drive\n",
        "drive.mount('/content/drive')"
      ],
      "metadata": {
        "colab": {
          "base_uri": "https://localhost:8080/"
        },
        "id": "WVbxy0viO6ZN",
        "outputId": "88d2e0a6-d9f8-4daa-c578-2f2b0f66d9f0"
      },
      "execution_count": null,
      "outputs": [
        {
          "output_type": "stream",
          "name": "stdout",
          "text": [
            "Mounted at /content/drive\n"
          ]
        }
      ]
    },
    {
      "cell_type": "code",
      "source": [
        "#OPCION DE CARGA N° 2\n",
        "#Matriz_MC es la matriz que contiene a las empresas ya clasificadas por Tamaño\n",
        "import pandas as pd\n",
        "##df= pd.read_excel('/content/drive/MyDrive/NOMBRE_CARPETA_DRIVE/NOMRE_EXCEL.xlsx', sheet_name='NOMBRE_HOJA_EXCEL')\n",
        "df= pd.read_excel('/content/drive/MyDrive/Colab Notebooks/Adex/Base_Ene_MC.xlsx', sheet_name='Base_Ene_MC')\n",
        "df"
      ],
      "metadata": {
        "id": "-_dJ5GWlYZia"
      },
      "execution_count": null,
      "outputs": []
    },
    {
      "cell_type": "code",
      "source": [
        "def multisectores(df, anio: int=None, tipo=0):\n",
        "\n",
        "    \"\"\"\n",
        "    Muestra el número de empresas exportadoras por sector económico.\n",
        "    :df: DataFrame.\n",
        "    :anio: Último año del dataframe (opcional, por defecto año actual).\n",
        "    :tipo: Tipo de exportación (0: anual acumulado, 1: mes específico).\n",
        "    \"\"\"\n",
        "    if tipo not in (0, 1):\n",
        "      print(\"Error: el argumento 'tipo' solo acepta los valores 0 (acumulado anual) o 1 (mensual).\")\n",
        "      return\n",
        "\n",
        "    #Si no se declara argumento 'anio', se utiliza, por defecto, el año actual.\n",
        "    min_AA= min(df[\"AA\"].unique())\n",
        "    max_AA= max(df[\"AA\"].unique())\n",
        "    if anio is None:\n",
        "      anio = max_AA\n",
        "    elif not isinstance(anio, int) or anio<min_AA or anio>max_AA:\n",
        "      print(f\"Error: en este caso, a partir del análisis de la base de datos, el argumento 'anio' solo acepta valores enteros, desde {min_AA} hasta {max_AA}.\")\n",
        "      return\n",
        "\n",
        "    #Determina cuántos años (máx. 10) se analizarán contando a partir del último año del dataframe.\n",
        "    intentos2=3\n",
        "    while True:\n",
        "      intentos2-=1\n",
        "      if intentos2==0:\n",
        "        print(\"Excedió el límite de intentos.\")\n",
        "        return\n",
        "      try:\n",
        "        n = int(input(f\"Ingrese el número de años a analizar, contando desde el argumento 'anio' (en este caso: {anio}): \"))\n",
        "        if 1<=n<=(anio - min_AA + 1):\n",
        "          break # Sale del bucle si n es válido\n",
        "        else:\n",
        "          print(f'En este caso, a partir del análisis de la base de datos, el número de años a analizar debe ser menor o igual a {anio-min_AA+1}.')\n",
        "      except ValueError:\n",
        "        print('Error: el número de años a analizar debe ser un número entero.')\n",
        "\n",
        "    #Creamos diccionario vacío para almacenar \"SUB\" DataFrames filtrados por año.\n",
        "    df_dict = {}\n",
        "    ##===============================================================================================================\n",
        "    ##==================================DIFERENCIA CON MULTISECTORES 2===============================================\n",
        "    ##======================================(Pide Ene-Mes_elegido)===================================================\n",
        "    if tipo==0 :\n",
        "      for i in range(0,n):\n",
        "        df_dict[f'df{anio-i}'] = df[df['AA'] == anio-i]\n",
        "    elif tipo==1 :\n",
        "      intentos3=4\n",
        "      min_MM=min(df[\"MM\"].unique())\n",
        "      max_MM=max(df[\"MM\"].unique())\n",
        "      while True:\n",
        "        intentos3-=1\n",
        "        if intentos3==0:\n",
        "          print(\"Excedió el límite de intetos.\")\n",
        "          return\n",
        "        try:\n",
        "          mes = int(input(f\"Ingrese el mes  (a partir del análisis de la base de datos: [{min_MM}, {max_MM}]): \"))\n",
        "          if min_MM <= mes <= max_MM:\n",
        "              break  # Salir del bucle si el mes es válido\n",
        "          else:\n",
        "              print(f'En este caso, a partir del análisis de la base de datos, el mes debe ser un número entero, desde {min_MM} hasta {max_MM}.')\n",
        "        except ValueError:\n",
        "          print('Error: el mes debe ser un número entero.')\n",
        "\n",
        "      for i in range(0,n):\n",
        "          df_dict[f'df{anio-i}'] = df[(df['AA'] == anio-i) & (df['MM']==mes)]\n",
        "    ##===============================================================================================================\n",
        "    ##===============================================================================================================\n",
        "    ##===============================================================================================================\n",
        "\n",
        "    #Aplicación de filtros al DataFrame.\n",
        "    import pandas as pd\n",
        "    #Creamos diccinario vacío para almacenar Dataframes filtrados por año y FOB.\n",
        "    multisectores_dict = {}\n",
        "    for i in range(0,n):\n",
        "      #Agrupa por empresa, país y tamaño, y calcula la suma de ventas.\n",
        "      f_multisectores = df_dict[f'df{anio-i}'].groupby(\n",
        "          ['NUM_DOCUMENTO', 'SECTOR_ES', f'Tamaño {anio-i}'], as_index=False).agg({'FOB': 'sum'})\n",
        "      #Calcula las ventas por empresa utilizando el DataFrame filtrado original.\n",
        "      ventas_por_empresa = df_dict[f'df{anio-i}'].groupby('NUM_DOCUMENTO')['FOB'].sum().reset_index()\n",
        "      ventas_por_empresa = ventas_por_empresa.rename(columns={'FOB': 'VentaTotal'})\n",
        "      #Fusiona los DataFrames para combinar las ventas por empresa.\n",
        "      f_multisectores = pd.merge(f_multisectores, ventas_por_empresa, on='NUM_DOCUMENTO')\n",
        "      #Selecciona las columnas necesarias\n",
        "      f_multisectores = f_multisectores[['NUM_DOCUMENTO', 'SECTOR_ES', f'Tamaño {anio-i}', 'FOB', 'VentaTotal']]\n",
        "      f_multisectores.reset_index(drop=True, inplace=True)\n",
        "      #Filtra los datos de empresas cuyas ventas totales sean >=1000 y, a su vez, que sus ventas por país >=1000\n",
        "      #Nota: supongamos que una empresa exporta $1000: $500 Argentina y $500 Chile, entonces, esta empresa se considerará\n",
        "      #en el conteo de empresas exportadoras (>=1000), PERO, NO se considerará en los sectores Argentina y Chile.\n",
        "      f_multisectores = f_multisectores.loc[(f_multisectores['VentaTotal'] >= 1000) & (f_multisectores['FOB'] >= 1000)]\n",
        "\n",
        "      #Inserta \"SUB\"-dataframes al diccionario.\n",
        "      if tipo==0 :\n",
        "        #Extrae columnas RUC, PAIS, Tamaño, y agrupa por PAIS y Tamaño. Luego, cuenta empresas existentes por PAIS y Tamaño.\n",
        "        multisectores_dict[f'{anio-i}'] = f_multisectores.loc[\n",
        "            :,['NUM_DOCUMENTO', 'SECTOR_ES', f'Tamaño {anio-i}']\n",
        "            ].groupby(\n",
        "            ['SECTOR_ES', f'Tamaño {anio-i}'],as_index=False\n",
        "            )['NUM_DOCUMENTO'].count()\n",
        "        #Cambio de nombre Tamaño {anio-i} a 'Tamanio'\n",
        "        #Importante: este nombre debe coincidir con el DF utilizado en el Merge final\n",
        "        multisectores_dict[f'{anio-i}'].rename(\n",
        "            columns={f'Tamaño {anio-i}':'Tamanio','NUM_DOCUMENTO':f'Empresas_{anio-i}'}, inplace=True)\n",
        "      else :\n",
        "        #Extrae columnas RUC y PAIS, y agrupa por PAIS. Luego, cuenta empresas existentes por PAIS.\n",
        "        intentos4 = 4\n",
        "        while True:\n",
        "          intentos4-=1\n",
        "          if intentos4==0:\n",
        "            print(\"Excedió el límite de intentos.\")\n",
        "            return\n",
        "          try:\n",
        "            rpta = str(input(f\"¿Desea incluir la clasificación por tamaño? (solo escriba: SI o NO): \"))\n",
        "            if rpta == 'SI':\n",
        "              multisectores_dict[f'{anio-i}'] = f_multisectores.loc[\n",
        "                  :, ['NUM_DOCUMENTO', 'SECTOR_ES', f'Tamaño {anio-i}']\n",
        "                  ].groupby(\n",
        "                      ['SECTOR_ES', f'Tamaño {anio-i}'], as_index=False\n",
        "                      )['NUM_DOCUMENTO'].count()\n",
        "              multisectores_dict[f'{anio-i}'].rename(\n",
        "                  columns={f'Tamaño {anio-i}': 'Tamanio', 'NUM_DOCUMENTO':f'Empresas_{anio-i}_{mes}'}, inplace=True\n",
        "                  )\n",
        "              break  # Salir del bucle si el mes es válido\n",
        "            elif rpta =='NO':\n",
        "              multisectores_dict[f'{anio-i}'] = f_multisectores.loc[\n",
        "                  :, ['NUM_DOCUMENTO', 'SECTOR_ES']\n",
        "                  ].groupby(\n",
        "                      ['SECTOR_ES'], as_index=False\n",
        "                      )['NUM_DOCUMENTO'].count()\n",
        "              multisectores_dict[f'{anio-i}'].rename(\n",
        "                  columns={'NUM_DOCUMENTO':f'Empresas_{anio-i}_{mes}'}, inplace=True\n",
        "                  )\n",
        "              break\n",
        "          except ValueError:\n",
        "            print('Error: solo debe escribir \"SI\" o \"NO\"')\n",
        "\n",
        "    #Construyendo el Merge Final.\n",
        "    from itertools import product\n",
        "    #Se crea la tupla 'sectores' (no modificable post creación)\n",
        "    sectores= (\"MINERIA TRADICIONAL\", \"AGRO TRADICIONAL\", \"PESCA TRADICIONAL\",\n",
        "               \"PETROLEO Y GAS NATURAL\", \"AGROPECUARIO Y AGROINDUSTRIAS\", \"METAL - MECANICO\",\n",
        "               \"QUIMICO\", \"PRENDAS DE VESTIR\", \"VARIOS\", \"TEXTIL\",\n",
        "               \"MINERIA NO METALICA\", \"PESCA\", \"SIDERURGICO Y METALURGICO\", \"MADERAS\"\n",
        "               )\n",
        "    #Se crea la tupla 'tamanos' (no modificable post creación)\n",
        "    tamanos= (\n",
        "        'Grande',\n",
        "        'Mediana',\n",
        "        'Pequeña',\n",
        "        'Microempresa'\n",
        "      )\n",
        "\n",
        "    if tipo==0 :\n",
        "      #Se crea el producto cartesiano entre sectores y tamanos.\n",
        "      #Importante: la columna 'Tamanio' debe coincidir con el nombre del if tipo==0 del 1° for\n",
        "      sxt=pd.DataFrame(product(sectores,tamanos),columns=['SECTOR_ES','Tamanio'])\n",
        "      #Merge entre sxt y los \"SUB\" dataframes de multisectores_dict\n",
        "      multisectores=pd.merge(sxt, multisectores_dict[f'{anio}'], how= 'outer', on=['SECTOR_ES','Tamanio'])\n",
        "      for j in range (1,n):\n",
        "        multisectores = pd.merge(\n",
        "            multisectores,\n",
        "            multisectores_dict[f'{anio-j}'],\n",
        "            how= 'outer',\n",
        "            on=['SECTOR_ES','Tamanio']\n",
        "            )\n",
        "    else :\n",
        "      if rpta == 'SI':\n",
        "        sxt=pd.DataFrame(product(sectores,tamanos),columns=['SECTOR_ES', 'Tamanio'])\n",
        "        multisectores=pd.merge(sxt, multisectores_dict[f'{anio}'], how= 'outer', on=['SECTOR_ES', 'Tamanio'])\n",
        "        for j in range (1,n):\n",
        "          multisectores = pd.merge(\n",
        "              multisectores,\n",
        "              multisectores_dict[f'{anio-j}'],\n",
        "              how= 'outer',\n",
        "              on=['SECTOR_ES', 'Tamanio']\n",
        "              )\n",
        "      elif rpta == 'NO':\n",
        "        sxt=pd.DataFrame(sectores,columns=['SECTOR_ES'])\n",
        "        multisectores=pd.merge(sxt, multisectores_dict[f'{anio}'], how= 'outer', on=['SECTOR_ES'])\n",
        "        for j in range (1,n):\n",
        "          multisectores = pd.merge(\n",
        "              multisectores,\n",
        "              multisectores_dict[f'{anio-j}'],\n",
        "              how= 'outer',\n",
        "              on=['SECTOR_ES']\n",
        "              )\n",
        "\n",
        "    #Exporta a Excel.\n",
        "    multisectores.to_excel(f'multisectores_tipo{tipo}.xlsx', index=False)"
      ],
      "metadata": {
        "id": "3HLLBl6cVC_K"
      },
      "execution_count": null,
      "outputs": []
    },
    {
      "cell_type": "code",
      "source": [
        "multisectores(df,2022,1)"
      ],
      "metadata": {
        "colab": {
          "base_uri": "https://localhost:8080/"
        },
        "id": "5n6vPdp1rzPq",
        "outputId": "60c3e871-2b5f-40d9-cc10-b8d57bf31028"
      },
      "execution_count": null,
      "outputs": [
        {
          "name": "stdout",
          "output_type": "stream",
          "text": [
            "Ingrese el número de años a analizar, contando desde el argumento 'anio' (en este caso: 2022): 6\n",
            "En este caso, a partir del análisis de la base de datos, el número de años a analizar debe ser menor o igual a 1.\n",
            "Ingrese el número de años a analizar, contando desde el argumento 'anio' (en este caso: 2022): 1\n",
            "Ingrese el mes  (a partir del análisis de la base de datos: [1, 6]): 6\n",
            "¿Desea incluir la clasificación por tamaño? (solo escriba: SI o NO): NO\n"
          ]
        }
      ]
    }
  ],
  "metadata": {
    "colab": {
      "provenance": [],
      "include_colab_link": true
    },
    "kernelspec": {
      "display_name": "Python 3",
      "name": "python3"
    },
    "language_info": {
      "name": "python"
    }
  },
  "nbformat": 4,
  "nbformat_minor": 0
}